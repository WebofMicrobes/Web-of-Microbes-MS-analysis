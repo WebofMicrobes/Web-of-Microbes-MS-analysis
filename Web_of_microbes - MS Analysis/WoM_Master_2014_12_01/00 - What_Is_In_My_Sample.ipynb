{
 "metadata": {
  "name": "",
  "signature": "sha256:5290978adcdc11f01d4f3fbfe391a5ed060a2f77043509ce53710ac1e2051515"
 },
 "nbformat": 3,
 "nbformat_minor": 0,
 "worksheets": [
  {
   "cells": [
    {
     "cell_type": "heading",
     "level": 1,
     "metadata": {},
     "source": [
      "Web of Microbes metatlas MS analysis"
     ]
    },
    {
     "cell_type": "markdown",
     "metadata": {},
     "source": [
      "Welcome to this introduction to the programmatic access capabilities for Metabolite Atlas. The full Github repository is available at https://github.com/benbowen/metatlas. \n",
      "\n",
      "Other resources can be found at the project's homepage: https://metatlas.nersc.gov/"
     ]
    },
    {
     "cell_type": "heading",
     "level": 1,
     "metadata": {},
     "source": [
      "1.0 Getting started"
     ]
    },
    {
     "cell_type": "heading",
     "level": 2,
     "metadata": {},
     "source": [
      "Import modules and set system path to metatlas.py"
     ]
    },
    {
     "cell_type": "code",
     "collapsed": false,
     "input": [
      "%matplotlib inline\n",
      "%config InlineBackend.figure_format = 'svg' \n",
      "from matplotlib import pyplot as plt\n",
      "import requests, json\n",
      "import numpy as np\n",
      "import sys\n",
      "import os\n",
      "sys.path.append( 'C:/Users/Suzie/Documents/IPython Notebooks/Web_of_microbes/' )\n",
      "import metatlas\n",
      "from bokeh.plotting import *\n",
      "output_notebook()\n",
      "import re\n",
      "import platform\n",
      "\n",
      "if platform.system()==\"Windows\":\n",
      "\twd = !cd\n",
      "else:\n",
      "\twd = !pwd"
     ],
     "language": "python",
     "metadata": {},
     "outputs": []
    },
    {
     "cell_type": "heading",
     "level": 2,
     "metadata": {},
     "source": [
      "Login to metatlas and get a list of experiments"
     ]
    },
    {
     "cell_type": "code",
     "collapsed": false,
     "input": [
      "# when ipython notbook releases update replace this block with getpass\n",
      "# NEVER CHECKIN THE USERINFO.TXT FILE TO THE REPO!!!!!\n",
      "userFile = 'C:/Users/Suzie/Documents/IPython Notebooks/userinfo.txt'\n",
      "client = metatlas.authenticateUser(userFile)\n",
      "reload(metatlas)\n",
      "# get an experiment ID\n",
      "experiments = metatlas.listMyExperiments(client)\n"
     ],
     "language": "python",
     "metadata": {},
     "outputs": []
    },
    {
     "cell_type": "heading",
     "level": 1,
     "metadata": {},
     "source": [
      "2.0 Experiment files"
     ]
    },
    {
     "cell_type": "heading",
     "level": 2,
     "metadata": {},
     "source": [
      "Select an experiment from the list above and export the list of experiment files"
     ]
    },
    {
     "cell_type": "code",
     "collapsed": false,
     "input": [
      "####  This block will export a list of files for the selected experiment (edit the myExperimentID string) ####\n",
      "myExperimentID = '545aeebef207830f66b1e2d5'\n",
      "myExperimentName = metatlas.getExpName(myExperimentID, experiments)\n",
      "filename = \"02 - Exp_files_list_(%s)_empty.txt\" % myExperimentName\n",
      "\n",
      "exportedfiles=metatlas.exportfilelist(myExperimentID, client, wd, filename)"
     ],
     "language": "python",
     "metadata": {},
     "outputs": []
    },
    {
     "cell_type": "heading",
     "level": 3,
     "metadata": {},
     "source": [
      "Set polarity of analysis"
     ]
    },
    {
     "cell_type": "code",
     "collapsed": false,
     "input": [
      "selectedpolarity = \"positive\" # enter the string to either positive or negative\n",
      "polarity=metatlas.polaritycheck(selectedpolarity)"
     ],
     "language": "python",
     "metadata": {},
     "outputs": []
    },
    {
     "cell_type": "heading",
     "level": 3,
     "metadata": {},
     "source": [
      "Import the edited files list to obtain a subset of files for your selected polarity"
     ]
    },
    {
     "cell_type": "code",
     "collapsed": false,
     "input": [
      "# import the  sheet with annotated group information, polarity, and plot order\n",
      "filename = \"02 - Exp_files_list_(%s).txt\" % myExperimentName\n",
      "\n",
      "fileInfo=metatlas.uploadgroupings(filename)\n",
      "export_fileIds= metatlas.getfileIDs(fileInfo,polarity)"
     ],
     "language": "python",
     "metadata": {},
     "outputs": []
    },
    {
     "cell_type": "heading",
     "level": 1,
     "metadata": {},
     "source": [
      "3.0 Atlases"
     ]
    },
    {
     "cell_type": "heading",
     "level": 2,
     "metadata": {},
     "source": [
      "List the atlases available for use"
     ]
    },
    {
     "cell_type": "code",
     "collapsed": false,
     "input": [
      "allAtlases = metatlas.getAtlasList(client)"
     ],
     "language": "python",
     "metadata": {},
     "outputs": []
    },
    {
     "cell_type": "heading",
     "level": 2,
     "metadata": {},
     "source": [
      "Select an atlas from the list above, enter its ID below to load the atlas"
     ]
    },
    {
     "cell_type": "code",
     "collapsed": false,
     "input": [
      "dictId = '54b0c1317626402b00e3a3f8'\n",
      "atlasName = metatlas.getAtlasName(dictId, allAtlases)\n",
      "dictData = metatlas.getAtlasEntries(dictId, client, atlasName)"
     ],
     "language": "python",
     "metadata": {},
     "outputs": []
    },
    {
     "cell_type": "heading",
     "level": 3,
     "metadata": {},
     "source": [
      "(If atlas empty, export the formatted txt file below and fill in the rows with compound info indicated by column labels)"
     ]
    },
    {
     "cell_type": "code",
     "collapsed": false,
     "input": [
      "filename='03 - EmptyAtlas.txt'\n",
      "\n",
      "EmptyAtlas=metatlas.emptyatlas(filename)"
     ],
     "language": "python",
     "metadata": {},
     "outputs": []
    },
    {
     "cell_type": "heading",
     "level": 3,
     "metadata": {},
     "source": [
      "(If atlas empty, upload a list of compounds from a formatted txt file and reload the atlas)"
     ]
    },
    {
     "cell_type": "code",
     "collapsed": false,
     "input": [
      "filename = '03 - BSC_new_pos_150109.txt'\n",
      "metatlas.addCompAtlas(filename, client, dictId, atlasName)\n",
      "dictData = metatlas.getAtlasEntries(dictId, client, atlasName)"
     ],
     "language": "python",
     "metadata": {},
     "outputs": []
    },
    {
     "cell_type": "heading",
     "level": 3,
     "metadata": {},
     "source": [
      "(Export an atlas)"
     ]
    },
    {
     "cell_type": "code",
     "collapsed": false,
     "input": [
      "filename = '03 - atlas_export_pol(%s)_Atlas(%s)_DATE.txt' % (selectedpolarity,atlasName)\n",
      "metatlas.exportAtlas(filename,atlasName, dictData)"
     ],
     "language": "python",
     "metadata": {},
     "outputs": []
    },
    {
     "cell_type": "heading",
     "level": 1,
     "metadata": {},
     "source": [
      "4.0 EICs"
     ]
    },
    {
     "cell_type": "heading",
     "level": 3,
     "metadata": {},
     "source": [
      "Get the EIC data for all files of your selected polarity"
     ]
    },
    {
     "cell_type": "code",
     "collapsed": false,
     "input": [
      "dictData = metatlas.getAtlasEntries(dictId, client, atlasName)\n",
      "\n",
      "comp_start = None #select index of first compound (for first, enter None)\n",
      "comp_end =1#select index of last compound (for last, enter None)\n",
      "\n",
      "if comp_end==None:\n",
      "    comp_end=len(dictData[u'compounds'])+1\n",
      "else:\n",
      "    comp_end+=1\n",
      "\n",
      "\n",
      "expandRTrangeby=1.0 #on each side (all expanded to 1 min, plus whatever is added here, so the range is the \n",
      "#same for all compounds unless the orginal rt range is greater than or equal to 1)\n",
      "\n",
      "data=metatlas.getEICdata(polarity, expandRTrangeby, comp_start, comp_end, dictData, export_fileIds, exportedfiles, client)"
     ],
     "language": "python",
     "metadata": {},
     "outputs": []
    },
    {
     "cell_type": "heading",
     "level": 3,
     "metadata": {},
     "source": [
      "Export image files containing EICs (filenames are compound names)"
     ]
    },
    {
     "cell_type": "code",
     "collapsed": false,
     "input": [
      "metatlas = reload(metatlas)\n",
      "\n",
      "filenameprefix = \"04 - EIC_Exp(%s)_Atl(%s)_pol(%s)_150108_\" % (myExperimentName, atlasName, selectedpolarity)\n",
      "# final filename will include prefix followed by compound name as png file\n",
      "\n",
      "#if files were run on different dates at RT times shifted\n",
      "# Edit the rules for which files/compounds need adjusted rt, j = index of file id, \n",
      "#lowercomp is lowercase compound name with symbols removed\n",
      "rules = \"\"\"\n",
      "if polarity == 1:\n",
      "    if j>56 and j < 111 and lowercomp!='glucose' and lowercomp!='nicotinamide' and lowercomp!='methylthioadenosine': \n",
      "        Timeadjust=-0.15 \n",
      "    elif j >= 111 and lowercomp!='glucose' and lowercomp!='nicotinamide' and lowercomp!='methylthioadenosine':\n",
      "        Timeadjust=0.10 \n",
      "    elif j>56 and j < 111 and lowercomp=='nicotinamide': \n",
      "        Timeadjust=-0.05\n",
      "    else:\n",
      "        Timeadjust=0\n",
      "elif polarity == 0:\n",
      "    if j==122 or j==127 or j==143:\n",
      "        Timeadjust=0.58\n",
      "    elif j>53 and j < 108 and lowercomp!='pyroglutamic acid' and lowercomp!='acetylglutamate' and lowercomp!='n-acetyl-l-phenylalanine' and lowercomp!='methylguanosine':\n",
      "        Timeadjust=-0.08\n",
      "    elif j >= 108 and j!=122 and j!=127 and j!=143 and lowercomp!='pyroglutamic acid' and lowercomp!='acetylglutamate' and lowercomp!='n-acetyl-l-phenylalanine' and lowercomp!='methylguanosine':\n",
      "       Timeadjust=0.08\n",
      "    else:\n",
      "        Timeadjust=0\n",
      "else:\n",
      "    Timeadjust =0\n",
      "\"\"\"\n",
      "\n",
      "%config InlineBackend.figure_format = 'png'   \n",
      "\n",
      "metatlas.makingimagefilesofplots(export_fileIds,dictData, filenameprefix, data[comp_start:comp_end],fileInfo,rules,polarity, comp_start, comp_end)"
     ],
     "language": "python",
     "metadata": {},
     "outputs": [
      {
       "ename": "NameError",
       "evalue": "name 'metatlas' is not defined",
       "output_type": "pyerr",
       "traceback": [
        "\u001b[1;31m---------------------------------------------------------------------------\u001b[0m\n\u001b[1;31mNameError\u001b[0m                                 Traceback (most recent call last)",
        "\u001b[1;32m<ipython-input-2-2dd7487e8bdb>\u001b[0m in \u001b[0;36m<module>\u001b[1;34m()\u001b[0m\n\u001b[1;32m----> 1\u001b[1;33m \u001b[0mmetatlas\u001b[0m \u001b[1;33m=\u001b[0m \u001b[0mreload\u001b[0m\u001b[1;33m(\u001b[0m\u001b[0mmetatlas\u001b[0m\u001b[1;33m)\u001b[0m\u001b[1;33m\u001b[0m\u001b[0m\n\u001b[0m\u001b[0;32m      2\u001b[0m \u001b[1;33m\u001b[0m\u001b[0m\n\u001b[0;32m      3\u001b[0m \u001b[0mfilenameprefix\u001b[0m \u001b[1;33m=\u001b[0m \u001b[1;34m\"04 - EIC_Exp(%s)_Atl(%s)_pol(%s)_150108_\"\u001b[0m \u001b[1;33m%\u001b[0m \u001b[1;33m(\u001b[0m\u001b[0mmyExperimentName\u001b[0m\u001b[1;33m,\u001b[0m \u001b[0matlasName\u001b[0m\u001b[1;33m,\u001b[0m \u001b[0mselectedpolarity\u001b[0m\u001b[1;33m)\u001b[0m\u001b[1;33m\u001b[0m\u001b[0m\n\u001b[0;32m      4\u001b[0m \u001b[1;31m# final filename will include prefix followed by compound name as png file\u001b[0m\u001b[1;33m\u001b[0m\u001b[1;33m\u001b[0m\u001b[0m\n\u001b[0;32m      5\u001b[0m \u001b[1;33m\u001b[0m\u001b[0m\n",
        "\u001b[1;31mNameError\u001b[0m: name 'metatlas' is not defined"
       ]
      }
     ],
     "prompt_number": 2
    },
    {
     "cell_type": "markdown",
     "metadata": {},
     "source": [
      "<h1>5.0 Output of data to spreadsheet</h1>"
     ]
    },
    {
     "cell_type": "heading",
     "level": 4,
     "metadata": {},
     "source": [
      "Output of polarity, compound, file, group, area and height in columns (formula, neutral mass, RT, protocol included for WoM)"
     ]
    },
    {
     "cell_type": "code",
     "collapsed": false,
     "input": [
      "filename = '05 - output, Exp(%s), Atlas(%s), Pol(%s), for WoM results4.txt' % (myExperimentName, atlasName, selectedpolarity)\n",
      "\n",
      "reload(metatlas)\n",
      "\n",
      "output=metatlas.outputofEICdatatotxt(export_fileIds, fileInfo, filename, dictData, data[comp_start:comp_end], rules,polarity)"
     ],
     "language": "python",
     "metadata": {},
     "outputs": []
    },
    {
     "cell_type": "heading",
     "level": 1,
     "metadata": {},
     "source": [
      "6.0 Calculating the stats, assertion scores and assertion values for WoM"
     ]
    },
    {
     "cell_type": "markdown",
     "metadata": {},
     "source": [
      "After exporting the output file, copy it into the results calculator excel file.  Template for this is: WoM_Results_Calcs.xlsx  \n",
      "\n",
      "The first tab will calculate whether values are detected, log transform the data, perform T tests on all Ctr to Isolate combinations, select optimal response from pos or neg, and calculate the assertion actions and scores.\n",
      "\n",
      "One it is done calculating (this may take a minute or two, note hte calculating status bar at the bottom of excel), update the pivot table to get the results in the usable format.\n",
      "\n",
      "Once the pivot table has refreshed, go to the last tab, copy row 1 of columns A-G to the row # indicated in cell I1.  Save the results file as an xlsx.  Then make a copy of the final tab to a blank workbook and save it as a tab delimited text file named with the variable string indicated below and continue to next block."
     ]
    },
    {
     "cell_type": "heading",
     "level": 1,
     "metadata": {},
     "source": [
      "7.0 Formatting results for WoM upload"
     ]
    },
    {
     "cell_type": "heading",
     "level": 2,
     "metadata": {},
     "source": [
      "Convert single WoM results file containing all groups into one file per group for WoM upload with columns in the same order as upload"
     ]
    },
    {
     "cell_type": "code",
     "collapsed": false,
     "input": [
      "reload(metatlas)\n",
      "resultsfile='06 - BSC_results_allgroups.txt'\n",
      "metatlas.splitresultsforWoM(export_fileIds,resultsfile,fileInfo)"
     ],
     "language": "python",
     "metadata": {},
     "outputs": []
    }
   ],
   "metadata": {}
  }
 ]
}